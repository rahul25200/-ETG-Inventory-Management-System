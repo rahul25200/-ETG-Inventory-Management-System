{
 "cells": [
  {
   "cell_type": "markdown",
   "id": "686c67e4",
   "metadata": {},
   "source": [
    "# Adding initial products in record.json file"
   ]
  },
  {
   "cell_type": "code",
   "execution_count": 1,
   "id": "798db6e8",
   "metadata": {},
   "outputs": [],
   "source": [
    "products = {\n",
    "    \"1001\": {\"name\": \"Choco Cake\", \"price\": 100, \"quant\": 34, \"brand\": \"Britannia\", \"expiry\": \"1/12/2021\"},\n",
    "    \"1002\": {\"name\": \"Milk Cake\", \"price\": 400, \"quant\": 100, \"brand\": \"Britannia\", \"expiry\": \"1/12/2021\"},\n",
    "    \"1003\": {\"name\": \"Pepsi\", \"price\": 40, \"quant\": 100, \"brand\": \"Pepsi-Co\", \"expiry\": \"23/11/2021\"},\n",
    "    \"1004\": {\"name\": \"Candy\", \"price\": 5, \"quant\": 500, \"brand\": \"Eclairs\", \"expiry\": \"12/02/2022\"},\n",
    "    \"1005\": {\"name\": \"Pen\", \"price\": 20, \"quant\": 100, \"brand\": \"Pilot\", \"expiry\": \"01/12/2023\"},\n",
    "    \"1006\": {\"name\": \"Smartphone\", \"price\": 20000, \"quant\": 10, \"brand\": \"Samsung\", \"expiry\": \"NA\"},\n",
    "    \"1007\": {\"name\": \"Microphone\", \"price\": 1500, \"quant\": 0, \"brand\": \"Sony\", \"expiry\": \"NA\"},\n",
    "    \"1008\": {\"name\": \"Case\", \"price\": 599, \"quant\": 5, \"brand\": \"Octa\", \"expiry\": \"NA\"},\n",
    "    \"1009\": {\"name\": \"Keyboard\", \"price\": 1999, \"quant\": 10, \"brand\": \"Logitech\", \"expiry\": \"NA\"},\n",
    "    \"1010\": {\"name\": \"Dairy Milk Silk\", \"price\":100, \"quant\":50, \"brand\":\"Cadbury\", \"expiry\":\"31/01/2022\"}\n",
    "}"
   ]
  },
  {
   "cell_type": "code",
   "execution_count": 2,
   "id": "5646c155",
   "metadata": {},
   "outputs": [],
   "source": [
    "import json\n",
    "\n",
    "js = json.dumps(products)\n",
    "\n",
    "fd = open(\"record.json\",\"w\")\n",
    "\n",
    "fd.write(js)\n",
    "\n",
    "fd.close()"
   ]
  },
  {
   "cell_type": "markdown",
   "id": "f20b4c06",
   "metadata": {},
   "source": [
    "# Reading record.json file to check products have been written"
   ]
  },
  {
   "cell_type": "code",
   "execution_count": 3,
   "id": "c3b1462c",
   "metadata": {},
   "outputs": [],
   "source": [
    "fd = open(\"record.json\",'r')\n",
    "\n",
    "r = fd.read()\n",
    "\n",
    "records = json.loads(r)\n",
    "\n",
    "fd.close()"
   ]
  },
  {
   "cell_type": "code",
   "execution_count": 4,
   "id": "40227441",
   "metadata": {},
   "outputs": [
    {
     "data": {
      "text/plain": [
       "{'1001': {'name': 'Choco Cake',\n",
       "  'price': 100,\n",
       "  'quant': 34,\n",
       "  'brand': 'Britannia',\n",
       "  'expiry': '1/12/2021'},\n",
       " '1002': {'name': 'Milk Cake',\n",
       "  'price': 400,\n",
       "  'quant': 100,\n",
       "  'brand': 'Britannia',\n",
       "  'expiry': '1/12/2021'},\n",
       " '1003': {'name': 'Pepsi',\n",
       "  'price': 40,\n",
       "  'quant': 100,\n",
       "  'brand': 'Pepsi-Co',\n",
       "  'expiry': '23/11/2021'},\n",
       " '1004': {'name': 'Candy',\n",
       "  'price': 5,\n",
       "  'quant': 500,\n",
       "  'brand': 'Eclairs',\n",
       "  'expiry': '12/02/2022'},\n",
       " '1005': {'name': 'Pen',\n",
       "  'price': 20,\n",
       "  'quant': 100,\n",
       "  'brand': 'Pilot',\n",
       "  'expiry': '01/12/2023'},\n",
       " '1006': {'name': 'Smartphone',\n",
       "  'price': 20000,\n",
       "  'quant': 10,\n",
       "  'brand': 'Samsung',\n",
       "  'expiry': 'NA'},\n",
       " '1007': {'name': 'Microphone',\n",
       "  'price': 1500,\n",
       "  'quant': 0,\n",
       "  'brand': 'Sony',\n",
       "  'expiry': 'NA'},\n",
       " '1008': {'name': 'Case',\n",
       "  'price': 599,\n",
       "  'quant': 5,\n",
       "  'brand': 'Octa',\n",
       "  'expiry': 'NA'},\n",
       " '1009': {'name': 'Keyboard',\n",
       "  'price': 1999,\n",
       "  'quant': 10,\n",
       "  'brand': 'Logitech',\n",
       "  'expiry': 'NA'},\n",
       " '1010': {'name': 'Dairy Milk Silk',\n",
       "  'price': 100,\n",
       "  'quant': 50,\n",
       "  'brand': 'Cadbury',\n",
       "  'expiry': '31/01/2022'}}"
      ]
     },
     "execution_count": 4,
     "metadata": {},
     "output_type": "execute_result"
    }
   ],
   "source": [
    "records"
   ]
  },
  {
   "cell_type": "markdown",
   "id": "93324e8e",
   "metadata": {},
   "source": [
    "# Adding new products in record.json file"
   ]
  },
  {
   "cell_type": "code",
   "execution_count": 8,
   "id": "e4080c99",
   "metadata": {},
   "outputs": [
    {
     "name": "stdout",
     "output_type": "stream",
     "text": [
      "Enter name: chips\n",
      "Enter price: 20\n",
      "Enter quantity: 300\n",
      "Enter brand: lays\n",
      "Enter expiry: 06/01/2022\n"
     ]
    }
   ],
   "source": [
    "prod_id = str(len(records) + 1001)\n",
    "name = input(\"Enter name: \")\n",
    "price = int(input(\"Enter price: \"))\n",
    "quantity = int(input(\"Enter quantity: \"))\n",
    "brand = input(\"Enter brand: \")\n",
    "expiry = input(\"Enter expiry: \")\n",
    "\n",
    "products[prod_id] = {'name': name, 'price': price, 'quant': quantity, 'brand': brand, 'expiry': expiry}\n",
    "\n",
    "js = json.dumps(products)\n",
    "\n",
    "fd = open(\"record.json\",'w')\n",
    "\n",
    "fd.write(js)\n",
    "\n",
    "fd.close()"
   ]
  },
  {
   "cell_type": "markdown",
   "id": "0ad79e4a",
   "metadata": {},
   "source": [
    "# Reading record.json file to check products have been written"
   ]
  },
  {
   "cell_type": "code",
   "execution_count": 6,
   "id": "fdac289c",
   "metadata": {},
   "outputs": [],
   "source": [
    "fd = open(\"record.json\",'r')\n",
    "\n",
    "r = fd.read()\n",
    "\n",
    "records = json.loads(r)\n",
    "\n",
    "fd.close()"
   ]
  },
  {
   "cell_type": "code",
   "execution_count": 7,
   "id": "82511bf0",
   "metadata": {},
   "outputs": [
    {
     "data": {
      "text/plain": [
       "{'1001': {'name': 'Choco Cake',\n",
       "  'price': 100,\n",
       "  'quant': 34,\n",
       "  'brand': 'Britannia',\n",
       "  'expiry': '1/12/2021'},\n",
       " '1002': {'name': 'Milk Cake',\n",
       "  'price': 400,\n",
       "  'quant': 100,\n",
       "  'brand': 'Britannia',\n",
       "  'expiry': '1/12/2021'},\n",
       " '1003': {'name': 'Pepsi',\n",
       "  'price': 40,\n",
       "  'quant': 100,\n",
       "  'brand': 'Pepsi-Co',\n",
       "  'expiry': '23/11/2021'},\n",
       " '1004': {'name': 'Candy',\n",
       "  'price': 5,\n",
       "  'quant': 500,\n",
       "  'brand': 'Eclairs',\n",
       "  'expiry': '12/02/2022'},\n",
       " '1005': {'name': 'Pen',\n",
       "  'price': 20,\n",
       "  'quant': 100,\n",
       "  'brand': 'Pilot',\n",
       "  'expiry': '01/12/2023'},\n",
       " '1006': {'name': 'Smartphone',\n",
       "  'price': 20000,\n",
       "  'quant': 10,\n",
       "  'brand': 'Samsung',\n",
       "  'expiry': 'NA'},\n",
       " '1007': {'name': 'Microphone',\n",
       "  'price': 1500,\n",
       "  'quant': 0,\n",
       "  'brand': 'Sony',\n",
       "  'expiry': 'NA'},\n",
       " '1008': {'name': 'Case',\n",
       "  'price': 599,\n",
       "  'quant': 5,\n",
       "  'brand': 'Octa',\n",
       "  'expiry': 'NA'},\n",
       " '1009': {'name': 'Keyboard',\n",
       "  'price': 1999,\n",
       "  'quant': 10,\n",
       "  'brand': 'Logitech',\n",
       "  'expiry': 'NA'},\n",
       " '1010': {'name': 'Dairy Milk Silk',\n",
       "  'price': 100,\n",
       "  'quant': 50,\n",
       "  'brand': 'Cadbury',\n",
       "  'expiry': '31/01/2022'},\n",
       " '1011': {'name': 'chips',\n",
       "  'price': 20,\n",
       "  'quant': 300,\n",
       "  'brand': 'lays',\n",
       "  'expiry': '06/01/2022'}}"
      ]
     },
     "execution_count": 7,
     "metadata": {},
     "output_type": "execute_result"
    }
   ],
   "source": [
    "records"
   ]
  }
 ],
 "metadata": {
  "kernelspec": {
   "display_name": "Python 3 (ipykernel)",
   "language": "python",
   "name": "python3"
  },
  "language_info": {
   "codemirror_mode": {
    "name": "ipython",
    "version": 3
   },
   "file_extension": ".py",
   "mimetype": "text/x-python",
   "name": "python",
   "nbconvert_exporter": "python",
   "pygments_lexer": "ipython3",
   "version": "3.9.6"
  }
 },
 "nbformat": 4,
 "nbformat_minor": 5
}
